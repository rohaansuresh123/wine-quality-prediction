{
  "nbformat": 4,
  "nbformat_minor": 0,
  "metadata": {
    "colab": {
      "provenance": [],
      "authorship_tag": "ABX9TyN95DSgzTHmjWVf32jXtT67",
      "include_colab_link": true
    },
    "kernelspec": {
      "name": "python3",
      "display_name": "Python 3"
    },
    "language_info": {
      "name": "python"
    }
  },
  "cells": [
    {
      "cell_type": "markdown",
      "metadata": {
        "id": "view-in-github",
        "colab_type": "text"
      },
      "source": [
        "<a href=\"https://colab.research.google.com/github/rohaansuresh123/wine-quality-prediction/blob/main/Wine_Quality_Prediction.ipynb\" target=\"_parent\"><img src=\"https://colab.research.google.com/assets/colab-badge.svg\" alt=\"Open In Colab\"/></a>"
      ]
    },
    {
      "cell_type": "code",
      "source": [
        "# Import necessary libraries\n",
        "import pandas as pd\n",
        "import numpy as np\n",
        "\n",
        "# Set the number of rows in your dataset\n",
        "num_rows = 1000  # Change this to the desired number of data points\n",
        "\n",
        "# Generate random data for the dataset\n",
        "np.random.seed(42)\n",
        "\n",
        "# Define columns and their corresponding ranges (you can modify these)\n",
        "data = {\n",
        "    'FixedAcidity': np.random.uniform(4, 16, num_rows),\n",
        "    'VolatileAcidity': np.random.uniform(0, 2, num_rows),\n",
        "    'CitricAcid': np.random.uniform(0, 1, num_rows),\n",
        "    'ResidualSugar': np.random.uniform(0, 15, num_rows),\n",
        "    'Chlorides': np.random.uniform(0, 0.4, num_rows),\n",
        "    'FreeSulfurDioxide': np.random.uniform(1, 72, num_rows),\n",
        "    'TotalSulfurDioxide': np.random.uniform(6, 289, num_rows),\n",
        "    'Density': np.random.uniform(0.987, 1.039, num_rows),\n",
        "    'pH': np.random.uniform(2.72, 4.01, num_rows),\n",
        "    'Sulphates': np.random.uniform(0.33, 2, num_rows),\n",
        "    'Alcohol': np.random.uniform(8.4, 14.9, num_rows),\n",
        "    'Quality': np.random.uniform(3.0, 9.0, num_rows)\n",
        "}\n",
        "\n",
        "# Create a DataFrame\n",
        "df = pd.DataFrame(data)\n",
        "\n",
        "# Export the DataFrame to a CSV file\n",
        "df.to_csv('wine_quality_dataset.csv', index=False)\n",
        "\n",
        "print(\"Wine quality dataset generated and saved as 'wine_quality_dataset.csv'\")\n"
      ],
      "metadata": {
        "id": "UXbtF3rHZOCb",
        "colab": {
          "base_uri": "https://localhost:8080/"
        },
        "outputId": "992831de-3e5b-4189-a7f8-fe3382c03202"
      },
      "execution_count": 1,
      "outputs": [
        {
          "output_type": "stream",
          "name": "stdout",
          "text": [
            "Wine quality dataset generated and saved as 'wine_quality_dataset.csv'\n"
          ]
        }
      ]
    },
    {
      "cell_type": "code",
      "source": [
        "# Import necessary libraries\n",
        "import pandas as pd\n",
        "import numpy as np\n",
        "from sklearn.model_selection import train_test_split\n",
        "from sklearn.linear_model import LinearRegression\n",
        "from sklearn.metrics import mean_squared_error, r2_score\n",
        "\n",
        "# Load the wine quality dataset\n",
        "data = pd.read_csv('wine_quality_dataset.csv')\n",
        "\n",
        "# Split the dataset into features (X) and target variable (y)\n",
        "X = data.drop('Quality', axis=1)\n",
        "y = data['Quality']\n",
        "\n",
        "# Split the data into training and testing sets\n",
        "X_train, X_test, y_train, y_test = train_test_split(X, y, test_size=0.2, random_state=42)\n",
        "\n",
        "# Create a linear regression model\n",
        "model = LinearRegression()\n",
        "\n",
        "# Fit the model on the training data\n",
        "model.fit(X_train, y_train)\n",
        "\n",
        "# Make predictions on the test data\n",
        "y_pred = model.predict(X_test)\n",
        "\n",
        "# Calculate model performance\n",
        "mse = mean_squared_error(y_test, y_pred)\n",
        "r2 = r2_score(y_test, y_pred)\n",
        "\n",
        "print(\"Mean Squared Error:\", mse)\n",
        "print(\"R-squared:\", r2)\n"
      ],
      "metadata": {
        "colab": {
          "base_uri": "https://localhost:8080/"
        },
        "id": "fLY5Z5BwezMg",
        "outputId": "fce1e369-6e6d-41c9-b427-459a2114fa9d"
      },
      "execution_count": 3,
      "outputs": [
        {
          "output_type": "stream",
          "name": "stdout",
          "text": [
            "Mean Squared Error: 3.074815802823593\n",
            "R-squared: 0.0035817247908505045\n"
          ]
        }
      ]
    }
  ]
}